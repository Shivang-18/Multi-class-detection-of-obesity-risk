{
  "nbformat": 4,
  "nbformat_minor": 0,
  "metadata": {
    "colab": {
      "provenance": [],
      "gpuType": "T4"
    },
    "kernelspec": {
      "name": "ir",
      "display_name": "R"
    },
    "language_info": {
      "name": "R"
    },
    "accelerator": "GPU"
  },
  "cells": [
    {
      "cell_type": "code",
      "source": [
        "install.packages(\"tidyverse\")\n",
        "install.packages(\"rpart\")\n",
        "install.packages(\"rpart.plot\")\n",
        "install.packages(\"caret\")\n",
        "install.packages(\"ModelMetrics\")\n",
        "install.packages(\"GGally\")"
      ],
      "metadata": {
        "colab": {
          "base_uri": "https://localhost:8080/",
          "height": 0
        },
        "id": "aQUZVKG1uoKd",
        "outputId": "c67dec25-7874-4f23-8671-9dbed938a3f5"
      },
      "execution_count": 5,
      "outputs": [
        {
          "output_type": "stream",
          "name": "stderr",
          "text": [
            "Installing package into ‘/usr/local/lib/R/site-library’\n",
            "(as ‘lib’ is unspecified)\n",
            "\n",
            "also installing the dependencies ‘listenv’, ‘parallelly’, ‘future’, ‘globals’, ‘shape’, ‘future.apply’, ‘numDeriv’, ‘progressr’, ‘SQUAREM’, ‘diagram’, ‘lava’, ‘prodlim’, ‘proxy’, ‘iterators’, ‘clock’, ‘gower’, ‘hardhat’, ‘ipred’, ‘timeDate’, ‘e1071’, ‘foreach’, ‘ModelMetrics’, ‘plyr’, ‘pROC’, ‘recipes’, ‘reshape2’\n",
            "\n",
            "\n",
            "Installing package into ‘/usr/local/lib/R/site-library’\n",
            "(as ‘lib’ is unspecified)\n",
            "\n",
            "Installing package into ‘/usr/local/lib/R/site-library’\n",
            "(as ‘lib’ is unspecified)\n",
            "\n",
            "also installing the dependencies ‘labelled’, ‘broom.helpers’, ‘patchwork’, ‘ggstats’\n",
            "\n",
            "\n"
          ]
        }
      ]
    },
    {
      "cell_type": "code",
      "source": [
        "install.packages(\"knitr\")\n",
        "install.packages(\"C50\")"
      ],
      "metadata": {
        "colab": {
          "base_uri": "https://localhost:8080/",
          "height": 0
        },
        "id": "oDKPFmWe4nrO",
        "outputId": "1d7ec9cf-756e-4a8a-9190-54816ce71178"
      },
      "execution_count": 43,
      "outputs": [
        {
          "output_type": "stream",
          "name": "stderr",
          "text": [
            "Installing package into ‘/usr/local/lib/R/site-library’\n",
            "(as ‘lib’ is unspecified)\n",
            "\n",
            "also installing the dependencies ‘libcoin’, ‘mvtnorm’, ‘Formula’, ‘inum’, ‘Cubist’, ‘partykit’\n",
            "\n",
            "\n"
          ]
        }
      ]
    },
    {
      "cell_type": "code",
      "source": [
        "library(tidyverse)\n",
        "library(rpart)\n",
        "library(rpart.plot)\n",
        "library(caret)\n",
        "library(ModelMetrics)\n",
        "library(GGally)"
      ],
      "metadata": {
        "id": "OWi11Go-uoOi"
      },
      "execution_count": 8,
      "outputs": []
    },
    {
      "cell_type": "code",
      "source": [
        "library(e1071)\n",
        "library(knitr)\n",
        "library(C50)"
      ],
      "metadata": {
        "id": "kTZhhB3I11dF"
      },
      "execution_count": 44,
      "outputs": []
    },
    {
      "cell_type": "code",
      "source": [
        "data <- read.csv(\"/content/ObesityDataSet.csv\")\n",
        "head(data)"
      ],
      "metadata": {
        "colab": {
          "base_uri": "https://localhost:8080/",
          "height": 306
        },
        "id": "5KmkCnnbuoR1",
        "outputId": "1f33ca15-38a5-41ca-b196-f44cb0592bfe"
      },
      "execution_count": 11,
      "outputs": [
        {
          "output_type": "display_data",
          "data": {
            "text/html": [
              "<table class=\"dataframe\">\n",
              "<caption>A data.frame: 6 × 17</caption>\n",
              "<thead>\n",
              "\t<tr><th></th><th scope=col>Gender</th><th scope=col>Age</th><th scope=col>Height</th><th scope=col>Weight</th><th scope=col>family_history_with_overweight</th><th scope=col>FAVC</th><th scope=col>FCVC</th><th scope=col>NCP</th><th scope=col>CAEC</th><th scope=col>SMOKE</th><th scope=col>CH2O</th><th scope=col>SCC</th><th scope=col>FAF</th><th scope=col>TUE</th><th scope=col>CALC</th><th scope=col>MTRANS</th><th scope=col>NObeyesdad</th></tr>\n",
              "\t<tr><th></th><th scope=col>&lt;chr&gt;</th><th scope=col>&lt;dbl&gt;</th><th scope=col>&lt;dbl&gt;</th><th scope=col>&lt;dbl&gt;</th><th scope=col>&lt;chr&gt;</th><th scope=col>&lt;chr&gt;</th><th scope=col>&lt;dbl&gt;</th><th scope=col>&lt;dbl&gt;</th><th scope=col>&lt;chr&gt;</th><th scope=col>&lt;chr&gt;</th><th scope=col>&lt;dbl&gt;</th><th scope=col>&lt;chr&gt;</th><th scope=col>&lt;dbl&gt;</th><th scope=col>&lt;dbl&gt;</th><th scope=col>&lt;chr&gt;</th><th scope=col>&lt;chr&gt;</th><th scope=col>&lt;chr&gt;</th></tr>\n",
              "</thead>\n",
              "<tbody>\n",
              "\t<tr><th scope=row>1</th><td>Female</td><td>21</td><td>1.62</td><td>64.0</td><td>yes</td><td>no </td><td>2</td><td>3</td><td>Sometimes</td><td>no </td><td>2</td><td>no </td><td>0</td><td>1</td><td>no        </td><td>Public_Transportation</td><td>Normal_Weight      </td></tr>\n",
              "\t<tr><th scope=row>2</th><td>Female</td><td>21</td><td>1.52</td><td>56.0</td><td>yes</td><td>no </td><td>3</td><td>3</td><td>Sometimes</td><td>yes</td><td>3</td><td>yes</td><td>3</td><td>0</td><td>Sometimes </td><td>Public_Transportation</td><td>Normal_Weight      </td></tr>\n",
              "\t<tr><th scope=row>3</th><td>Male  </td><td>23</td><td>1.80</td><td>77.0</td><td>yes</td><td>no </td><td>2</td><td>3</td><td>Sometimes</td><td>no </td><td>2</td><td>no </td><td>2</td><td>1</td><td>Frequently</td><td>Public_Transportation</td><td>Normal_Weight      </td></tr>\n",
              "\t<tr><th scope=row>4</th><td>Male  </td><td>27</td><td>1.80</td><td>87.0</td><td>no </td><td>no </td><td>3</td><td>3</td><td>Sometimes</td><td>no </td><td>2</td><td>no </td><td>2</td><td>0</td><td>Frequently</td><td>Walking              </td><td>Overweight_Level_I </td></tr>\n",
              "\t<tr><th scope=row>5</th><td>Male  </td><td>22</td><td>1.78</td><td>89.8</td><td>no </td><td>no </td><td>2</td><td>1</td><td>Sometimes</td><td>no </td><td>2</td><td>no </td><td>0</td><td>0</td><td>Sometimes </td><td>Public_Transportation</td><td>Overweight_Level_II</td></tr>\n",
              "\t<tr><th scope=row>6</th><td>Male  </td><td>29</td><td>1.62</td><td>53.0</td><td>no </td><td>yes</td><td>2</td><td>3</td><td>Sometimes</td><td>no </td><td>2</td><td>no </td><td>0</td><td>0</td><td>Sometimes </td><td>Automobile           </td><td>Normal_Weight      </td></tr>\n",
              "</tbody>\n",
              "</table>\n"
            ],
            "text/markdown": "\nA data.frame: 6 × 17\n\n| <!--/--> | Gender &lt;chr&gt; | Age &lt;dbl&gt; | Height &lt;dbl&gt; | Weight &lt;dbl&gt; | family_history_with_overweight &lt;chr&gt; | FAVC &lt;chr&gt; | FCVC &lt;dbl&gt; | NCP &lt;dbl&gt; | CAEC &lt;chr&gt; | SMOKE &lt;chr&gt; | CH2O &lt;dbl&gt; | SCC &lt;chr&gt; | FAF &lt;dbl&gt; | TUE &lt;dbl&gt; | CALC &lt;chr&gt; | MTRANS &lt;chr&gt; | NObeyesdad &lt;chr&gt; |\n|---|---|---|---|---|---|---|---|---|---|---|---|---|---|---|---|---|---|\n| 1 | Female | 21 | 1.62 | 64.0 | yes | no  | 2 | 3 | Sometimes | no  | 2 | no  | 0 | 1 | no         | Public_Transportation | Normal_Weight       |\n| 2 | Female | 21 | 1.52 | 56.0 | yes | no  | 3 | 3 | Sometimes | yes | 3 | yes | 3 | 0 | Sometimes  | Public_Transportation | Normal_Weight       |\n| 3 | Male   | 23 | 1.80 | 77.0 | yes | no  | 2 | 3 | Sometimes | no  | 2 | no  | 2 | 1 | Frequently | Public_Transportation | Normal_Weight       |\n| 4 | Male   | 27 | 1.80 | 87.0 | no  | no  | 3 | 3 | Sometimes | no  | 2 | no  | 2 | 0 | Frequently | Walking               | Overweight_Level_I  |\n| 5 | Male   | 22 | 1.78 | 89.8 | no  | no  | 2 | 1 | Sometimes | no  | 2 | no  | 0 | 0 | Sometimes  | Public_Transportation | Overweight_Level_II |\n| 6 | Male   | 29 | 1.62 | 53.0 | no  | yes | 2 | 3 | Sometimes | no  | 2 | no  | 0 | 0 | Sometimes  | Automobile            | Normal_Weight       |\n\n",
            "text/latex": "A data.frame: 6 × 17\n\\begin{tabular}{r|lllllllllllllllll}\n  & Gender & Age & Height & Weight & family\\_history\\_with\\_overweight & FAVC & FCVC & NCP & CAEC & SMOKE & CH2O & SCC & FAF & TUE & CALC & MTRANS & NObeyesdad\\\\\n  & <chr> & <dbl> & <dbl> & <dbl> & <chr> & <chr> & <dbl> & <dbl> & <chr> & <chr> & <dbl> & <chr> & <dbl> & <dbl> & <chr> & <chr> & <chr>\\\\\n\\hline\n\t1 & Female & 21 & 1.62 & 64.0 & yes & no  & 2 & 3 & Sometimes & no  & 2 & no  & 0 & 1 & no         & Public\\_Transportation & Normal\\_Weight      \\\\\n\t2 & Female & 21 & 1.52 & 56.0 & yes & no  & 3 & 3 & Sometimes & yes & 3 & yes & 3 & 0 & Sometimes  & Public\\_Transportation & Normal\\_Weight      \\\\\n\t3 & Male   & 23 & 1.80 & 77.0 & yes & no  & 2 & 3 & Sometimes & no  & 2 & no  & 2 & 1 & Frequently & Public\\_Transportation & Normal\\_Weight      \\\\\n\t4 & Male   & 27 & 1.80 & 87.0 & no  & no  & 3 & 3 & Sometimes & no  & 2 & no  & 2 & 0 & Frequently & Walking               & Overweight\\_Level\\_I \\\\\n\t5 & Male   & 22 & 1.78 & 89.8 & no  & no  & 2 & 1 & Sometimes & no  & 2 & no  & 0 & 0 & Sometimes  & Public\\_Transportation & Overweight\\_Level\\_II\\\\\n\t6 & Male   & 29 & 1.62 & 53.0 & no  & yes & 2 & 3 & Sometimes & no  & 2 & no  & 0 & 0 & Sometimes  & Automobile            & Normal\\_Weight      \\\\\n\\end{tabular}\n",
            "text/plain": [
              "  Gender Age Height Weight family_history_with_overweight FAVC FCVC NCP\n",
              "1 Female 21  1.62   64.0   yes                            no   2    3  \n",
              "2 Female 21  1.52   56.0   yes                            no   3    3  \n",
              "3 Male   23  1.80   77.0   yes                            no   2    3  \n",
              "4 Male   27  1.80   87.0   no                             no   3    3  \n",
              "5 Male   22  1.78   89.8   no                             no   2    1  \n",
              "6 Male   29  1.62   53.0   no                             yes  2    3  \n",
              "  CAEC      SMOKE CH2O SCC FAF TUE CALC       MTRANS               \n",
              "1 Sometimes no    2    no  0   1   no         Public_Transportation\n",
              "2 Sometimes yes   3    yes 3   0   Sometimes  Public_Transportation\n",
              "3 Sometimes no    2    no  2   1   Frequently Public_Transportation\n",
              "4 Sometimes no    2    no  2   0   Frequently Walking              \n",
              "5 Sometimes no    2    no  0   0   Sometimes  Public_Transportation\n",
              "6 Sometimes no    2    no  0   0   Sometimes  Automobile           \n",
              "  NObeyesdad         \n",
              "1 Normal_Weight      \n",
              "2 Normal_Weight      \n",
              "3 Normal_Weight      \n",
              "4 Overweight_Level_I \n",
              "5 Overweight_Level_II\n",
              "6 Normal_Weight      "
            ]
          },
          "metadata": {}
        }
      ]
    },
    {
      "cell_type": "code",
      "source": [
        "traindata <- read.csv(\"/content/train.csv\")\n",
        "testdata <- read.csv(\"/content/test.csv\")"
      ],
      "metadata": {
        "id": "HesrVGXDuoiQ"
      },
      "execution_count": 12,
      "outputs": []
    },
    {
      "cell_type": "code",
      "source": [
        "colSums(is.na(traindata))\n",
        "colSums(is.na(testdata))"
      ],
      "metadata": {
        "colab": {
          "base_uri": "https://localhost:8080/",
          "height": 121
        },
        "id": "9W5RcgeA2geH",
        "outputId": "b2efe6c9-fb0d-43ea-e3b1-3ea99c53ed7b"
      },
      "execution_count": 13,
      "outputs": [
        {
          "output_type": "display_data",
          "data": {
            "text/html": [
              "<style>\n",
              ".dl-inline {width: auto; margin:0; padding: 0}\n",
              ".dl-inline>dt, .dl-inline>dd {float: none; width: auto; display: inline-block}\n",
              ".dl-inline>dt::after {content: \":\\0020\"; padding-right: .5ex}\n",
              ".dl-inline>dt:not(:first-of-type) {padding-left: .5ex}\n",
              "</style><dl class=dl-inline><dt>id</dt><dd>0</dd><dt>Gender</dt><dd>0</dd><dt>Age</dt><dd>0</dd><dt>Height</dt><dd>0</dd><dt>Weight</dt><dd>0</dd><dt>family_history_with_overweight</dt><dd>0</dd><dt>FAVC</dt><dd>0</dd><dt>FCVC</dt><dd>0</dd><dt>NCP</dt><dd>0</dd><dt>CAEC</dt><dd>0</dd><dt>SMOKE</dt><dd>0</dd><dt>CH2O</dt><dd>0</dd><dt>SCC</dt><dd>0</dd><dt>FAF</dt><dd>0</dd><dt>TUE</dt><dd>0</dd><dt>CALC</dt><dd>0</dd><dt>MTRANS</dt><dd>0</dd><dt>NObeyesdad</dt><dd>0</dd></dl>\n"
            ],
            "text/markdown": "id\n:   0Gender\n:   0Age\n:   0Height\n:   0Weight\n:   0family_history_with_overweight\n:   0FAVC\n:   0FCVC\n:   0NCP\n:   0CAEC\n:   0SMOKE\n:   0CH2O\n:   0SCC\n:   0FAF\n:   0TUE\n:   0CALC\n:   0MTRANS\n:   0NObeyesdad\n:   0\n\n",
            "text/latex": "\\begin{description*}\n\\item[id] 0\n\\item[Gender] 0\n\\item[Age] 0\n\\item[Height] 0\n\\item[Weight] 0\n\\item[family\\textbackslash{}\\_history\\textbackslash{}\\_with\\textbackslash{}\\_overweight] 0\n\\item[FAVC] 0\n\\item[FCVC] 0\n\\item[NCP] 0\n\\item[CAEC] 0\n\\item[SMOKE] 0\n\\item[CH2O] 0\n\\item[SCC] 0\n\\item[FAF] 0\n\\item[TUE] 0\n\\item[CALC] 0\n\\item[MTRANS] 0\n\\item[NObeyesdad] 0\n\\end{description*}\n",
            "text/plain": [
              "                            id                         Gender \n",
              "                             0                              0 \n",
              "                           Age                         Height \n",
              "                             0                              0 \n",
              "                        Weight family_history_with_overweight \n",
              "                             0                              0 \n",
              "                          FAVC                           FCVC \n",
              "                             0                              0 \n",
              "                           NCP                           CAEC \n",
              "                             0                              0 \n",
              "                         SMOKE                           CH2O \n",
              "                             0                              0 \n",
              "                           SCC                            FAF \n",
              "                             0                              0 \n",
              "                           TUE                           CALC \n",
              "                             0                              0 \n",
              "                        MTRANS                     NObeyesdad \n",
              "                             0                              0 "
            ]
          },
          "metadata": {}
        },
        {
          "output_type": "display_data",
          "data": {
            "text/html": [
              "<style>\n",
              ".dl-inline {width: auto; margin:0; padding: 0}\n",
              ".dl-inline>dt, .dl-inline>dd {float: none; width: auto; display: inline-block}\n",
              ".dl-inline>dt::after {content: \":\\0020\"; padding-right: .5ex}\n",
              ".dl-inline>dt:not(:first-of-type) {padding-left: .5ex}\n",
              "</style><dl class=dl-inline><dt>id</dt><dd>0</dd><dt>Gender</dt><dd>0</dd><dt>Age</dt><dd>0</dd><dt>Height</dt><dd>0</dd><dt>Weight</dt><dd>0</dd><dt>family_history_with_overweight</dt><dd>0</dd><dt>FAVC</dt><dd>0</dd><dt>FCVC</dt><dd>0</dd><dt>NCP</dt><dd>0</dd><dt>CAEC</dt><dd>0</dd><dt>SMOKE</dt><dd>0</dd><dt>CH2O</dt><dd>0</dd><dt>SCC</dt><dd>0</dd><dt>FAF</dt><dd>0</dd><dt>TUE</dt><dd>0</dd><dt>CALC</dt><dd>0</dd><dt>MTRANS</dt><dd>0</dd></dl>\n"
            ],
            "text/markdown": "id\n:   0Gender\n:   0Age\n:   0Height\n:   0Weight\n:   0family_history_with_overweight\n:   0FAVC\n:   0FCVC\n:   0NCP\n:   0CAEC\n:   0SMOKE\n:   0CH2O\n:   0SCC\n:   0FAF\n:   0TUE\n:   0CALC\n:   0MTRANS\n:   0\n\n",
            "text/latex": "\\begin{description*}\n\\item[id] 0\n\\item[Gender] 0\n\\item[Age] 0\n\\item[Height] 0\n\\item[Weight] 0\n\\item[family\\textbackslash{}\\_history\\textbackslash{}\\_with\\textbackslash{}\\_overweight] 0\n\\item[FAVC] 0\n\\item[FCVC] 0\n\\item[NCP] 0\n\\item[CAEC] 0\n\\item[SMOKE] 0\n\\item[CH2O] 0\n\\item[SCC] 0\n\\item[FAF] 0\n\\item[TUE] 0\n\\item[CALC] 0\n\\item[MTRANS] 0\n\\end{description*}\n",
            "text/plain": [
              "                            id                         Gender \n",
              "                             0                              0 \n",
              "                           Age                         Height \n",
              "                             0                              0 \n",
              "                        Weight family_history_with_overweight \n",
              "                             0                              0 \n",
              "                          FAVC                           FCVC \n",
              "                             0                              0 \n",
              "                           NCP                           CAEC \n",
              "                             0                              0 \n",
              "                         SMOKE                           CH2O \n",
              "                             0                              0 \n",
              "                           SCC                            FAF \n",
              "                             0                              0 \n",
              "                           TUE                           CALC \n",
              "                             0                              0 \n",
              "                        MTRANS \n",
              "                             0 "
            ]
          },
          "metadata": {}
        }
      ]
    },
    {
      "cell_type": "code",
      "source": [
        "str(data)\n",
        "str(testdata)"
      ],
      "metadata": {
        "colab": {
          "base_uri": "https://localhost:8080/",
          "height": 0
        },
        "id": "brpIqgVd2ghe",
        "outputId": "c961e160-8a27-4c25-87b6-6349067cce12"
      },
      "execution_count": 14,
      "outputs": [
        {
          "output_type": "stream",
          "name": "stdout",
          "text": [
            "'data.frame':\t2111 obs. of  17 variables:\n",
            " $ Gender                        : chr  \"Female\" \"Female\" \"Male\" \"Male\" ...\n",
            " $ Age                           : num  21 21 23 27 22 29 23 22 24 22 ...\n",
            " $ Height                        : num  1.62 1.52 1.8 1.8 1.78 1.62 1.5 1.64 1.78 1.72 ...\n",
            " $ Weight                        : num  64 56 77 87 89.8 53 55 53 64 68 ...\n",
            " $ family_history_with_overweight: chr  \"yes\" \"yes\" \"yes\" \"no\" ...\n",
            " $ FAVC                          : chr  \"no\" \"no\" \"no\" \"no\" ...\n",
            " $ FCVC                          : num  2 3 2 3 2 2 3 2 3 2 ...\n",
            " $ NCP                           : num  3 3 3 3 1 3 3 3 3 3 ...\n",
            " $ CAEC                          : chr  \"Sometimes\" \"Sometimes\" \"Sometimes\" \"Sometimes\" ...\n",
            " $ SMOKE                         : chr  \"no\" \"yes\" \"no\" \"no\" ...\n",
            " $ CH2O                          : num  2 3 2 2 2 2 2 2 2 2 ...\n",
            " $ SCC                           : chr  \"no\" \"yes\" \"no\" \"no\" ...\n",
            " $ FAF                           : num  0 3 2 2 0 0 1 3 1 1 ...\n",
            " $ TUE                           : num  1 0 1 0 0 0 0 0 1 1 ...\n",
            " $ CALC                          : chr  \"no\" \"Sometimes\" \"Frequently\" \"Frequently\" ...\n",
            " $ MTRANS                        : chr  \"Public_Transportation\" \"Public_Transportation\" \"Public_Transportation\" \"Walking\" ...\n",
            " $ NObeyesdad                    : chr  \"Normal_Weight\" \"Normal_Weight\" \"Normal_Weight\" \"Overweight_Level_I\" ...\n",
            "'data.frame':\t13840 obs. of  17 variables:\n",
            " $ id                            : int  20758 20759 20760 20761 20762 20763 20764 20765 20766 20767 ...\n",
            " $ Gender                        : chr  \"Male\" \"Female\" \"Female\" \"Male\" ...\n",
            " $ Age                           : num  26.9 21 26 21 26 ...\n",
            " $ Height                        : num  1.85 1.6 1.64 1.55 1.63 ...\n",
            " $ Weight                        : num  121 66 112 104 105 ...\n",
            " $ family_history_with_overweight: chr  \"yes\" \"yes\" \"yes\" \"yes\" ...\n",
            " $ FAVC                          : chr  \"yes\" \"yes\" \"yes\" \"yes\" ...\n",
            " $ FCVC                          : num  2.94 2 3 2 3 ...\n",
            " $ NCP                           : num  3 1 3 2.98 3 ...\n",
            " $ CAEC                          : chr  \"Sometimes\" \"Sometimes\" \"Sometimes\" \"Sometimes\" ...\n",
            " $ SMOKE                         : chr  \"no\" \"no\" \"no\" \"no\" ...\n",
            " $ CH2O                          : num  2.83 3 2.62 2.79 2.65 ...\n",
            " $ SCC                           : chr  \"no\" \"no\" \"no\" \"no\" ...\n",
            " $ FAF                           : num  0.8554 1 0 0.0949 0 ...\n",
            " $ TUE                           : num  0 0 0.251 0 0.741 ...\n",
            " $ CALC                          : chr  \"Sometimes\" \"Sometimes\" \"Sometimes\" \"Sometimes\" ...\n",
            " $ MTRANS                        : chr  \"Public_Transportation\" \"Public_Transportation\" \"Public_Transportation\" \"Public_Transportation\" ...\n"
          ]
        }
      ]
    },
    {
      "cell_type": "markdown",
      "source": [
        "The test data does not contain the \"NObeyesdad\" column which shows wether a person is classified as obese or not"
      ],
      "metadata": {
        "id": "BU6hfW6T5mIV"
      }
    },
    {
      "cell_type": "code",
      "source": [
        "#Converting to factors\n",
        "\n",
        "for (i in c(\"Gender\", \"family_history_with_overweight\", \"FAVC\", \"SMOKE\", \"SCC\", \"MTRANS\", \"CAEC\", \"CALC\", \"NObeyesdad\")) {\n",
        "  traindata[[i]] <- as.factor(traindata[[i]])\n",
        "  data[[i]] <- as.factor(data[[i]])\n",
        "}\n",
        "for (i in c(\"Gender\", \"family_history_with_overweight\", \"FAVC\", \"SMOKE\", \"SCC\", \"MTRANS\", \"CAEC\", \"CALC\")) {\n",
        "  testdata[[i]] <- as.factor(testdata[[i]])\n",
        "}\n"
      ],
      "metadata": {
        "id": "xAWCd2tsHPqR"
      },
      "execution_count": 15,
      "outputs": []
    },
    {
      "cell_type": "code",
      "source": [
        "ggplot(traindata, aes(x = NObeyesdad, fill = NObeyesdad)) +\n",
        "  geom_bar() +\n",
        "  labs(title = \"Distribution Of Weight Category\",\n",
        "       x = \"NObeyesdad\",\n",
        "       y = \"Count\")+\n",
        "theme_minimal()+\n",
        "theme(axis.text.x = element_text(angle = 30, vjust = 0.5, hjust=1),\n",
        "axis.title.x = element_blank(),\n",
        "legend.position = \"bottom\")"
      ],
      "metadata": {
        "colab": {
          "base_uri": "https://localhost:8080/",
          "height": 437
        },
        "id": "a19LNVM62gk2",
        "outputId": "f59887e9-8350-4cb2-cea5-5ca36ee3cd60"
      },
      "execution_count": 16,
      "outputs": [
        {
          "output_type": "display_data",
          "data": {
            "text/plain": [
              "plot without title"
            ],
            "image/png": "[encoded data removed]"
          },
          "metadata": {
            "image/png": {
              "width": 420,
              "height": 420
            }
          }
        }
      ]
    },
    {
      "cell_type": "code",
      "source": [
        "round(prop.table(table(traindata$NObeyesdad)),2)"
      ],
      "metadata": {
        "colab": {
          "base_uri": "https://localhost:8080/",
          "height": 104
        },
        "id": "7BIMrKy12goC",
        "outputId": "1d69fb26-4dda-4586-e443-96e1d479f7b3"
      },
      "execution_count": 17,
      "outputs": [
        {
          "output_type": "display_data",
          "data": {
            "text/plain": [
              "\n",
              "Insufficient_Weight       Normal_Weight      Obesity_Type_I     Obesity_Type_II \n",
              "               0.12                0.15                0.14                0.16 \n",
              "   Obesity_Type_III  Overweight_Level_I Overweight_Level_II \n",
              "               0.19                0.12                0.12 "
            ]
          },
          "metadata": {}
        }
      ]
    },
    {
      "cell_type": "code",
      "source": [
        "set.seed(124)\n",
        "idx<-createDataPartition(traindata$NObeyesdad,p=0.7,list=F)"
      ],
      "metadata": {
        "id": "YgIMHFm32grL"
      },
      "execution_count": 36,
      "outputs": []
    },
    {
      "cell_type": "code",
      "source": [
        "train_split<-traindata[idx,-1]\n",
        "val_split<-traindata[-idx,-1]"
      ],
      "metadata": {
        "id": "Nzmk_kDP2gtf"
      },
      "execution_count": 37,
      "outputs": []
    },
    {
      "cell_type": "markdown",
      "source": [
        "**Decision Tree using rpart**\n",
        "\n",
        "\n",
        "*   Accuracy = 83.53%\n",
        "\n"
      ],
      "metadata": {
        "id": "D53_XRlCsvim"
      }
    },
    {
      "cell_type": "code",
      "source": [
        "decision_tree <- rpart(NObeyesdad~.,data=train_split,method=\"class\")"
      ],
      "metadata": {
        "id": "Er5jWnr32gwA"
      },
      "execution_count": 38,
      "outputs": []
    },
    {
      "cell_type": "code",
      "source": [
        "rpart.plot(decision_tree, type = 3, extra = 101, fallen.leaves = TRUE, cex = 0.5)"
      ],
      "metadata": {
        "colab": {
          "base_uri": "https://localhost:8080/",
          "height": 506
        },
        "id": "kULFhZXAwwQ-",
        "outputId": "266e0a02-5bb8-4290-8b9e-14fae648e10d"
      },
      "execution_count": 78,
      "outputs": [
        {
          "output_type": "stream",
          "name": "stderr",
          "text": [
            "Warning message:\n",
            "“All boxes will be white (the box.palette argument will be ignored) because\n",
            "the number of classes in the response 7 is greater than length(box.palette) 6.\n",
            "To silence this warning use box.palette=0 or trace=-1.”\n"
          ]
        },
        {
          "output_type": "display_data",
          "data": {
            "text/plain": [
              "plot without title"
            ],
            "image/png": "[encoded data removed]"
          },
          "metadata": {
            "image/png": {
              "width": 420,
              "height": 420
            }
          }
        }
      ]
    },
    {
      "cell_type": "code",
      "source": [
        "pred <- predict(decision_tree,val_split,type = \"class\")\n"
      ],
      "metadata": {
        "id": "4NFOhQer2gy3"
      },
      "execution_count": 53,
      "outputs": []
    },
    {
      "cell_type": "code",
      "source": [
        "caret::confusionMatrix(pred,data=val_split$NObeyesdad)"
      ],
      "metadata": {
        "colab": {
          "base_uri": "https://localhost:8080/",
          "height": 1388
        },
        "id": "70KAq9kdqXUR",
        "outputId": "9520c593-b34d-4f0c-808f-85d8b2067ee6"
      },
      "execution_count": 42,
      "outputs": [
        {
          "output_type": "display_data",
          "data": {
            "text/plain": [
              "Confusion Matrix and Statistics\n",
              "\n",
              "                     Reference\n",
              "Prediction            Insufficient_Weight Normal_Weight Obesity_Type_I\n",
              "  Insufficient_Weight                 698            55              0\n",
              "  Normal_Weight                        83           755              0\n",
              "  Obesity_Type_I                        0             1            653\n",
              "  Obesity_Type_II                       0             0             49\n",
              "  Obesity_Type_III                      0             0              1\n",
              "  Overweight_Level_I                    6           124             15\n",
              "  Overweight_Level_II                   0            18            118\n",
              "                     Reference\n",
              "Prediction            Obesity_Type_II Obesity_Type_III Overweight_Level_I\n",
              "  Insufficient_Weight               0                0                  3\n",
              "  Normal_Weight                     0                0                 82\n",
              "  Obesity_Type_I                   95                5                 36\n",
              "  Obesity_Type_II                 920                1                  2\n",
              "  Obesity_Type_III                  1             1210                  1\n",
              "  Overweight_Level_I                0                0                526\n",
              "  Overweight_Level_II               7                1                175\n",
              "                     Reference\n",
              "Prediction            Overweight_Level_II\n",
              "  Insufficient_Weight                   0\n",
              "  Normal_Weight                         4\n",
              "  Obesity_Type_I                       83\n",
              "  Obesity_Type_II                       2\n",
              "  Obesity_Type_III                      0\n",
              "  Overweight_Level_I                   57\n",
              "  Overweight_Level_II                 437\n",
              "\n",
              "Overall Statistics\n",
              "                                          \n",
              "               Accuracy : 0.8353          \n",
              "                 95% CI : (0.8259, 0.8445)\n",
              "    No Information Rate : 0.1955          \n",
              "    P-Value [Acc > NIR] : < 2.2e-16       \n",
              "                                          \n",
              "                  Kappa : 0.8068          \n",
              "                                          \n",
              " Mcnemar's Test P-Value : NA              \n",
              "\n",
              "Statistics by Class:\n",
              "\n",
              "                     Class: Insufficient_Weight Class: Normal_Weight\n",
              "Sensitivity                              0.8869               0.7922\n",
              "Specificity                              0.9893               0.9679\n",
              "Pos Pred Value                           0.9233               0.8171\n",
              "Neg Pred Value                           0.9837               0.9626\n",
              "Prevalence                               0.1264               0.1531\n",
              "Detection Rate                           0.1121               0.1213\n",
              "Detection Prevalence                     0.1215               0.1485\n",
              "Balanced Accuracy                        0.9381               0.8801\n",
              "                     Class: Obesity_Type_I Class: Obesity_Type_II\n",
              "Sensitivity                         0.7811                 0.8993\n",
              "Specificity                         0.9592                 0.9896\n",
              "Pos Pred Value                      0.7480                 0.9446\n",
              "Neg Pred Value                      0.9658                 0.9804\n",
              "Prevalence                          0.1343                 0.1644\n",
              "Detection Rate                      0.1049                 0.1478\n",
              "Detection Prevalence                0.1403                 0.1565\n",
              "Balanced Accuracy                   0.8701                 0.9445\n",
              "                     Class: Obesity_Type_III Class: Overweight_Level_I\n",
              "Sensitivity                           0.9942                   0.63758\n",
              "Specificity                           0.9994                   0.96259\n",
              "Pos Pred Value                        0.9975                   0.72253\n",
              "Neg Pred Value                        0.9986                   0.94560\n",
              "Prevalence                            0.1955                   0.13255\n",
              "Detection Rate                        0.1944                   0.08451\n",
              "Detection Prevalence                  0.1949                   0.11697\n",
              "Balanced Accuracy                     0.9968                   0.80008\n",
              "                     Class: Overweight_Level_II\n",
              "Sensitivity                             0.74957\n",
              "Specificity                             0.94345\n",
              "Pos Pred Value                          0.57804\n",
              "Neg Pred Value                          0.97330\n",
              "Prevalence                              0.09367\n",
              "Detection Rate                          0.07021\n",
              "Detection Prevalence                    0.12147\n",
              "Balanced Accuracy                       0.84651"
            ]
          },
          "metadata": {}
        }
      ]
    },
    {
      "cell_type": "markdown",
      "source": [
        "**Decision Tree using C50**\n",
        "\n",
        "*  Accuracy = 87.64%\n",
        "\n"
      ],
      "metadata": {
        "id": "DM_oY0vJs1zR"
      }
    },
    {
      "cell_type": "code",
      "source": [
        "decision_tree2 <- C5.0.default(train_split[-17], train_split$NObeyesdad)"
      ],
      "metadata": {
        "id": "xHzuTDlSs07b"
      },
      "execution_count": 49,
      "outputs": []
    },
    {
      "cell_type": "code",
      "source": [
        "pred2 <- predict(decision_tree2,val_split)\n"
      ],
      "metadata": {
        "id": "ZZCQXGB6s1Hq"
      },
      "execution_count": 52,
      "outputs": []
    },
    {
      "cell_type": "code",
      "source": [
        "caret::confusionMatrix(pred2,data=val_split$NObeyesdad)"
      ],
      "metadata": {
        "colab": {
          "base_uri": "https://localhost:8080/",
          "height": 1388
        },
        "id": "3SY18RF-s1Lg",
        "outputId": "bfd8015e-e562-4d93-d3ff-a8b5974a3275"
      },
      "execution_count": 51,
      "outputs": [
        {
          "output_type": "display_data",
          "data": {
            "text/plain": [
              "Confusion Matrix and Statistics\n",
              "\n",
              "                     Reference\n",
              "Prediction            Insufficient_Weight Normal_Weight Obesity_Type_I\n",
              "  Insufficient_Weight                 706            46              0\n",
              "  Normal_Weight                        75           763              3\n",
              "  Obesity_Type_I                        0             5            763\n",
              "  Obesity_Type_II                       0             0             27\n",
              "  Obesity_Type_III                      0             1              1\n",
              "  Overweight_Level_I                    7            97             24\n",
              "  Overweight_Level_II                   3            18             58\n",
              "                     Reference\n",
              "Prediction            Obesity_Type_II Obesity_Type_III Overweight_Level_I\n",
              "  Insufficient_Weight               1                0                  2\n",
              "  Normal_Weight                     0                0                 72\n",
              "  Obesity_Type_I                   37                4                 12\n",
              "  Obesity_Type_II                 936                0                  1\n",
              "  Obesity_Type_III                  1             1210                  0\n",
              "  Overweight_Level_I                1                0                495\n",
              "  Overweight_Level_II               8                0                 87\n",
              "                     Reference\n",
              "Prediction            Overweight_Level_II\n",
              "  Insufficient_Weight                   1\n",
              "  Normal_Weight                        11\n",
              "  Obesity_Type_I                       52\n",
              "  Obesity_Type_II                      10\n",
              "  Obesity_Type_III                      0\n",
              "  Overweight_Level_I                  104\n",
              "  Overweight_Level_II                 582\n",
              "\n",
              "Overall Statistics\n",
              "                                         \n",
              "               Accuracy : 0.8764         \n",
              "                 95% CI : (0.868, 0.8845)\n",
              "    No Information Rate : 0.1951         \n",
              "    P-Value [Acc > NIR] : < 2.2e-16      \n",
              "                                         \n",
              "                  Kappa : 0.8551         \n",
              "                                         \n",
              " Mcnemar's Test P-Value : NA             \n",
              "\n",
              "Statistics by Class:\n",
              "\n",
              "                     Class: Insufficient_Weight Class: Normal_Weight\n",
              "Sensitivity                              0.8925               0.8204\n",
              "Specificity                              0.9908               0.9696\n",
              "Pos Pred Value                           0.9339               0.8258\n",
              "Neg Pred Value                           0.9845               0.9685\n",
              "Prevalence                               0.1271               0.1494\n",
              "Detection Rate                           0.1134               0.1226\n",
              "Detection Prevalence                     0.1215               0.1485\n",
              "Balanced Accuracy                        0.9417               0.8950\n",
              "                     Class: Obesity_Type_I Class: Obesity_Type_II\n",
              "Sensitivity                         0.8710                 0.9512\n",
              "Specificity                         0.9794                 0.9927\n",
              "Pos Pred Value                      0.8740                 0.9610\n",
              "Neg Pred Value                      0.9789                 0.9909\n",
              "Prevalence                          0.1407                 0.1581\n",
              "Detection Rate                      0.1226                 0.1504\n",
              "Detection Prevalence                0.1403                 0.1565\n",
              "Balanced Accuracy                   0.9252                 0.9720\n",
              "                     Class: Obesity_Type_III Class: Overweight_Level_I\n",
              "Sensitivity                           0.9967                   0.73991\n",
              "Specificity                           0.9994                   0.95806\n",
              "Pos Pred Value                        0.9975                   0.67995\n",
              "Neg Pred Value                        0.9992                   0.96834\n",
              "Prevalence                            0.1951                   0.10749\n",
              "Detection Rate                        0.1944                   0.07953\n",
              "Detection Prevalence                  0.1949                   0.11697\n",
              "Balanced Accuracy                     0.9981                   0.84898\n",
              "                     Class: Overweight_Level_II\n",
              "Sensitivity                             0.76579\n",
              "Specificity                             0.96816\n",
              "Pos Pred Value                          0.76984\n",
              "Neg Pred Value                          0.96745\n",
              "Prevalence                              0.12211\n",
              "Detection Rate                          0.09351\n",
              "Detection Prevalence                    0.12147\n",
              "Balanced Accuracy                       0.86697"
            ]
          },
          "metadata": {}
        }
      ]
    },
    {
      "cell_type": "markdown",
      "source": [
        "**Boosted C5.0 decision tree with 100 trials**\n",
        "\n",
        "*   Accuracy = 89.97 %\n",
        "\n",
        "\n",
        "\n"
      ],
      "metadata": {
        "id": "rTBmES8VvcVk"
      }
    },
    {
      "cell_type": "code",
      "source": [
        "decision_tree2_boost <- C5.0.default(train_split[-17], train_split$NObeyesdad, trials = 100)"
      ],
      "metadata": {
        "id": "Y-WjZbIWvEjQ"
      },
      "execution_count": 73,
      "outputs": []
    },
    {
      "cell_type": "code",
      "source": [
        "pred3 <- predict(decision_tree2_boost,val_split)"
      ],
      "metadata": {
        "id": "Z2I3p1H_vEsT"
      },
      "execution_count": 74,
      "outputs": []
    },
    {
      "cell_type": "code",
      "source": [
        "caret::confusionMatrix(pred3,data=val_split$NObeyesdad)"
      ],
      "metadata": {
        "colab": {
          "base_uri": "https://localhost:8080/",
          "height": 1388
        },
        "id": "kB1jFZknvEvR",
        "outputId": "0cb1fc6b-47b2-469d-e377-28a66e917f3c"
      },
      "execution_count": 75,
      "outputs": [
        {
          "output_type": "display_data",
          "data": {
            "text/plain": [
              "Confusion Matrix and Statistics\n",
              "\n",
              "                     Reference\n",
              "Prediction            Insufficient_Weight Normal_Weight Obesity_Type_I\n",
              "  Insufficient_Weight                 709            43              1\n",
              "  Normal_Weight                        58           807              1\n",
              "  Obesity_Type_I                        0             2            766\n",
              "  Obesity_Type_II                       0             0             23\n",
              "  Obesity_Type_III                      0             0              1\n",
              "  Overweight_Level_I                    6            73             15\n",
              "  Overweight_Level_II                   0            18             45\n",
              "                     Reference\n",
              "Prediction            Obesity_Type_II Obesity_Type_III Overweight_Level_I\n",
              "  Insufficient_Weight               0                0                  2\n",
              "  Normal_Weight                     0                0                 50\n",
              "  Obesity_Type_I                   34                3                 14\n",
              "  Obesity_Type_II                 944                0                  2\n",
              "  Obesity_Type_III                  1             1210                  1\n",
              "  Overweight_Level_I                0                0                548\n",
              "  Overweight_Level_II               7                0                 70\n",
              "                     Reference\n",
              "Prediction            Overweight_Level_II\n",
              "  Insufficient_Weight                   1\n",
              "  Normal_Weight                         8\n",
              "  Obesity_Type_I                       54\n",
              "  Obesity_Type_II                       5\n",
              "  Obesity_Type_III                      0\n",
              "  Overweight_Level_I                   86\n",
              "  Overweight_Level_II                 616\n",
              "\n",
              "Overall Statistics\n",
              "                                         \n",
              "               Accuracy : 0.8997         \n",
              "                 95% CI : (0.892, 0.9071)\n",
              "    No Information Rate : 0.1949         \n",
              "    P-Value [Acc > NIR] : < 2.2e-16      \n",
              "                                         \n",
              "                  Kappa : 0.8824         \n",
              "                                         \n",
              " Mcnemar's Test P-Value : NA             \n",
              "\n",
              "Statistics by Class:\n",
              "\n",
              "                     Class: Insufficient_Weight Class: Normal_Weight\n",
              "Sensitivity                              0.9172               0.8558\n",
              "Specificity                              0.9914               0.9778\n",
              "Pos Pred Value                           0.9378               0.8734\n",
              "Neg Pred Value                           0.9883               0.9743\n",
              "Prevalence                               0.1242               0.1515\n",
              "Detection Rate                           0.1139               0.1297\n",
              "Detection Prevalence                     0.1215               0.1485\n",
              "Balanced Accuracy                        0.9543               0.9168\n",
              "                     Class: Obesity_Type_I Class: Obesity_Type_II\n",
              "Sensitivity                         0.8991                 0.9574\n",
              "Specificity                         0.9801                 0.9943\n",
              "Pos Pred Value                      0.8774                 0.9692\n",
              "Neg Pred Value                      0.9839                 0.9920\n",
              "Prevalence                          0.1369                 0.1584\n",
              "Detection Rate                      0.1231                 0.1517\n",
              "Detection Prevalence                0.1403                 0.1565\n",
              "Balanced Accuracy                   0.9396                 0.9758\n",
              "                     Class: Obesity_Type_III Class: Overweight_Level_I\n",
              "Sensitivity                           0.9975                   0.79767\n",
              "Specificity                           0.9994                   0.96749\n",
              "Pos Pred Value                        0.9975                   0.75275\n",
              "Neg Pred Value                        0.9994                   0.97471\n",
              "Prevalence                            0.1949                   0.11038\n",
              "Detection Rate                        0.1944                   0.08805\n",
              "Detection Prevalence                  0.1949                   0.11697\n",
              "Balanced Accuracy                     0.9985                   0.88258\n",
              "                     Class: Overweight_Level_II\n",
              "Sensitivity                             0.80000\n",
              "Specificity                             0.97433\n",
              "Pos Pred Value                          0.81481\n",
              "Neg Pred Value                          0.97184\n",
              "Prevalence                              0.12371\n",
              "Detection Rate                          0.09897\n",
              "Detection Prevalence                    0.12147\n",
              "Balanced Accuracy                       0.88717"
            ]
          },
          "metadata": {}
        }
      ]
    },
    {
      "cell_type": "code",
      "source": [],
      "metadata": {
        "id": "_DQNOQ6jvEy4"
      },
      "execution_count": null,
      "outputs": []
    }
  ]
}